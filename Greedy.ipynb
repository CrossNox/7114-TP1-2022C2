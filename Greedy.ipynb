{
 "cells": [
  {
   "cell_type": "code",
   "execution_count": 1,
   "id": "28b2cc46-44b4-4ab5-b597-b05283f7f1fe",
   "metadata": {},
   "outputs": [],
   "source": [
    "from utils import (\n",
    "    download_file,\n",
    "    parsear_archivo,\n",
    "    random_path,\n",
    "    calcular_distancias,\n",
    "    cumple_capacidad,\n",
    "    dist\n",
    ")\n",
    "from tqdm.notebook import tqdm as tqdm"
   ]
  },
  {
   "cell_type": "code",
   "execution_count": 2,
   "id": "150ba9f7-8627-452e-970b-6dc14417d1e3",
   "metadata": {},
   "outputs": [
    {
     "data": {
      "application/vnd.jupyter.widget-view+json": {
       "model_id": "f28b93bfe28f43d29265711b9d83d67b",
       "version_major": 2,
       "version_minor": 0
      },
      "text/plain": [
       "  0%|          | 0.00/4.27k [00:00<?, ?iB/s]"
      ]
     },
     "metadata": {},
     "output_type": "display_data"
    }
   ],
   "source": [
    "download_file(\"https://modelosuno.okapii.com/Problemas/problema2022/problema_uno.txt\", \"problema_uno.txt\", override=True)"
   ]
  },
  {
   "cell_type": "code",
   "execution_count": 3,
   "id": "93ee030b-6a73-473f-908e-1a834ca34263",
   "metadata": {},
   "outputs": [],
   "source": [
    "CAPACIDAD, DIMENSION, DEMANDAS, TIPO_ARISTA, COORDS = parsear_archivo(\"problema_uno.txt\")"
   ]
  },
  {
   "cell_type": "code",
   "execution_count": 4,
   "id": "a622275b-ce55-4de1-8272-1c60877d44f1",
   "metadata": {},
   "outputs": [
    {
     "data": {
      "application/vnd.jupyter.widget-view+json": {
       "model_id": "65c472bba9d940dbb62cda4ce7218059",
       "version_major": 2,
       "version_minor": 0
      },
      "text/plain": [
       "  0%|          | 0/150 [00:00<?, ?it/s]"
      ]
     },
     "metadata": {},
     "output_type": "display_data"
    },
    {
     "name": "stdout",
     "output_type": "stream",
     "text": [
      "CPU times: user 1.62 s, sys: 13.7 ms, total: 1.63 s\n",
      "Wall time: 1.63 s\n"
     ]
    }
   ],
   "source": [
    "%%time\n",
    "costos = []\n",
    "caminos = []\n",
    "\n",
    "for initial in tqdm(range(1, DIMENSION+1)):\n",
    "    if DEMANDAS[initial] < 0:\n",
    "        continue\n",
    "    seq = [initial]\n",
    "    capacities = [DEMANDAS[initial]]\n",
    "\n",
    "    while len(seq) < DIMENSION:\n",
    "        last = seq[-1]\n",
    "        last_capacity = capacities[-1]\n",
    "\n",
    "        candidates = [k for k, v in DEMANDAS.items() if 0 <= last_capacity + v <= CAPACIDAD and k not in seq]\n",
    "\n",
    "        best_candidate = None\n",
    "        best_distance = None\n",
    "        for candidate in candidates:\n",
    "            d = dist(candidate, last, COORDS)\n",
    "            if best_distance is None or d < best_distance:\n",
    "                best_candidate = candidate\n",
    "                best_distance = d\n",
    "\n",
    "        seq.append(best_candidate)\n",
    "        capacities.append(last_capacity + DEMANDAS[best_candidate])\n",
    "    \n",
    "    costos.append(calcular_distancias(seq, COORDS))\n",
    "    caminos.append(seq)"
   ]
  },
  {
   "cell_type": "code",
   "execution_count": 5,
   "id": "e4569d86-f441-4b40-b9c5-a87b89fe661a",
   "metadata": {},
   "outputs": [
    {
     "name": "stdout",
     "output_type": "stream",
     "text": [
      "31\n",
      "True\n",
      "8428.020072199306\n"
     ]
    }
   ],
   "source": [
    "idx_minimo = costos.index(min(costos))\n",
    "camino_minimo = caminos[idx_minimo]\n",
    "\n",
    "print(idx_minimo)\n",
    "print(cumple_capacidad(camino_minimo, DEMANDAS, CAPACIDAD))\n",
    "print(calcular_distancias(camino_minimo, COORDS))"
   ]
  },
  {
   "cell_type": "code",
   "execution_count": 6,
   "id": "b3ba3d11-6bad-4a15-80d6-03d7d652e8ad",
   "metadata": {},
   "outputs": [
    {
     "name": "stdout",
     "output_type": "stream",
     "text": [
      "52 126 33 105 111 16 59 79 121 88 94 10 113 3 48 63 73 76 87 1 98 103 34 30 84 7 8 89 96 35 124 93 97 100 5 107 95 82 143 142 18 85 65 55 58 141 25 20 51 138 46 90 92 54 134 109 43 67 32 23 131 38 77 122 14 80 15 78 133 72 49 147 144 129 31 27 145 112 136 64 44 71 45 128 68 119 91 106 13 74 123 117 57 41 101 116 118 24 12 53 40 139 47 110 81 29 86 135 70 108 19 99 114 102 137 50 132 75 26 146 56 83 2 37 9 28 6 42 120 69 127 36 61 11 148 130 66 17 60 39 140 150 115 4 104 22 125 149 62 21\n"
     ]
    }
   ],
   "source": [
    "seq_str = \" \".join(map(str, camino_minimo))\n",
    "print(seq_str)"
   ]
  },
  {
   "cell_type": "code",
   "execution_count": 7,
   "id": "551a30e7-fd49-4e75-bdae-f090259e6089",
   "metadata": {},
   "outputs": [],
   "source": [
    "with open(\"entrega_greedy.txt\", \"w\") as f:\n",
    "    f.write(seq_str)"
   ]
  },
  {
   "cell_type": "code",
   "execution_count": null,
   "id": "b4e68191-1aac-4c64-959e-1bd083d20c6f",
   "metadata": {},
   "outputs": [],
   "source": []
  }
 ],
 "metadata": {
  "kernelspec": {
   "display_name": "Python 3 (ipykernel)",
   "language": "python",
   "name": "python3"
  },
  "language_info": {
   "codemirror_mode": {
    "name": "ipython",
    "version": 3
   },
   "file_extension": ".py",
   "mimetype": "text/x-python",
   "name": "python",
   "nbconvert_exporter": "python",
   "pygments_lexer": "ipython3",
   "version": "3.8.13"
  }
 },
 "nbformat": 4,
 "nbformat_minor": 5
}
