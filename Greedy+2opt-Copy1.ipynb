{
 "cells": [
  {
   "cell_type": "code",
   "execution_count": 1,
   "id": "9616dc40-5b33-456d-b932-7d6e382c8e96",
   "metadata": {},
   "outputs": [],
   "source": [
    "from utils import (\n",
    "    download_file,\n",
    "    parsear_archivo,\n",
    "    random_path,\n",
    "    calcular_distancias,\n",
    "    cumple_capacidad,\n",
    "    dist\n",
    ")\n",
    "from tqdm.notebook import tqdm as tqdm\n",
    "import math"
   ]
  },
  {
   "cell_type": "markdown",
   "id": "45673ca9-6ceb-4a9d-9222-684cdceac375",
   "metadata": {},
   "source": [
    "# Descargo y parseo datos"
   ]
  },
  {
   "cell_type": "code",
   "execution_count": 2,
   "id": "2343ec00-c61e-4cab-b1bb-5283be75e468",
   "metadata": {},
   "outputs": [
    {
     "data": {
      "application/vnd.jupyter.widget-view+json": {
       "model_id": "bcccf3bcd2ef4061ac3d33e5e91cfe78",
       "version_major": 2,
       "version_minor": 0
      },
      "text/plain": [
       "  0%|          | 0.00/470k [00:00<?, ?iB/s]"
      ]
     },
     "metadata": {},
     "output_type": "display_data"
    }
   ],
   "source": [
    "download_file(\"https://modelosuno.okapii.com/Problemas/problema2022/problema_dos.txt\", \"problema_dos.txt\", override=True)"
   ]
  },
  {
   "cell_type": "code",
   "execution_count": 3,
   "id": "92950555-4a14-4649-8dc4-711614ccfe25",
   "metadata": {},
   "outputs": [],
   "source": [
    "CAPACIDAD, DIMENSION, DEMANDAS, TIPO_ARISTA, COORDS = parsear_archivo(\"problema_dos.txt\")"
   ]
  },
  {
   "cell_type": "code",
   "execution_count": 4,
   "id": "bea1d778-9274-431a-ac66-939424dc35a5",
   "metadata": {},
   "outputs": [],
   "source": [
    "DATA = [\n",
    "    (k, v, COORDS[k][\"x\"], COORDS[k][\"y\"]) for k,v in DEMANDAS.items()\n",
    "]\n",
    "COORDS_S = {\n",
    "    k: (v[\"x\"], v[\"y\"]) for k, v in COORDS.items()\n",
    "}"
   ]
  },
  {
   "cell_type": "markdown",
   "id": "7638adc3-6ca9-4610-be5c-31fc89810528",
   "metadata": {},
   "source": [
    "# Armo recorridos"
   ]
  },
  {
   "cell_type": "code",
   "execution_count": 5,
   "id": "121ed4dd-e9e5-46e6-8e31-299c8214556f",
   "metadata": {},
   "outputs": [],
   "source": [
    "class LoopError(Exception):\n",
    "    pass"
   ]
  },
  {
   "cell_type": "code",
   "execution_count": 15,
   "id": "f537fd43-7101-4341-822d-a5b8ad0f0794",
   "metadata": {},
   "outputs": [
    {
     "data": {
      "application/vnd.jupyter.widget-view+json": {
       "model_id": "2f3dc47ef2de4a648eebc7ab8e71c816",
       "version_major": 2,
       "version_minor": 0
      },
      "text/plain": [
       "  0%|          | 0/200 [00:00<?, ?it/s]"
      ]
     },
     "metadata": {},
     "output_type": "display_data"
    }
   ],
   "source": [
    "import multiprocessing as mp\n",
    "\n",
    "def generar_camino(initial, demandas, data, dimension, coords_s, capacidad):\n",
    "    try:\n",
    "        if demandas[initial] < 0:\n",
    "            return None\n",
    "        seq = [initial]\n",
    "        seqset = set(seq)\n",
    "        capacities = [demandas[initial]]\n",
    "\n",
    "        for _ in range(dimension - 1):\n",
    "            # while len(seq) < DIMENSION:\n",
    "            last = seq[-1]\n",
    "            last_capacity = capacities[-1]\n",
    "            x0, y0 = coords_s[last]\n",
    "\n",
    "            best_candidate = None\n",
    "            best_distance = math.inf\n",
    "\n",
    "            for k, dem, x1, y1 in data:\n",
    "                if k in seqset:\n",
    "                    continue\n",
    "                if not 0 <= last_capacity + dem <= capacidad:\n",
    "                    continue\n",
    "                d = (x0 - x1) ** 2 + (y0 - y1) ** 2\n",
    "                if d < best_distance:\n",
    "                    best_candidate = k\n",
    "                    best_distance = d\n",
    "\n",
    "            if best_candidate is None:\n",
    "                raise LoopError\n",
    "\n",
    "            seq.append(best_candidate)\n",
    "            seqset.add(best_candidate)\n",
    "            capacities.append(last_capacity + demandas[best_candidate])\n",
    "\n",
    "        return seq\n",
    "    except LoopError:\n",
    "        return None\n",
    "\n",
    "import functools\n",
    "\n",
    "initial_candidates = list(range(1,201))\n",
    "costos = []\n",
    "caminos = []\n",
    "\n",
    "with mp.Pool(16) as p, tqdm(total=len(initial_candidates)) as bar:\n",
    "    f = functools.partial(\n",
    "        generar_camino,\n",
    "        demandas=DEMANDAS,\n",
    "        data=DATA,\n",
    "        dimension=DIMENSION,\n",
    "        coords_s=COORDS_S,\n",
    "        capacidad=CAPACIDAD\n",
    "    )\n",
    "    rs = p.imap(f, initial_candidates)\n",
    "    for r in rs:\n",
    "        bar.update(1)\n",
    "        if r is not None:\n",
    "            caminos.append(r)\n",
    "            costos.append(calcular_distancias(r, COORDS))"
   ]
  },
  {
   "cell_type": "code",
   "execution_count": 16,
   "id": "a8b14fab-51a3-4646-933a-e4e6a381ef6c",
   "metadata": {},
   "outputs": [
    {
     "name": "stdout",
     "output_type": "stream",
     "text": [
      "77\n",
      "True\n",
      "933431.0259261626\n"
     ]
    }
   ],
   "source": [
    "idx_minimo = costos.index(min(costos))\n",
    "camino_minimo = caminos[idx_minimo]\n",
    "\n",
    "print(idx_minimo)\n",
    "print(cumple_capacidad(camino_minimo, DEMANDAS, CAPACIDAD))\n",
    "print(calcular_distancias(camino_minimo, COORDS))"
   ]
  },
  {
   "cell_type": "code",
   "execution_count": 17,
   "id": "9809266c-6c31-4ec1-a863-26e7484cb570",
   "metadata": {},
   "outputs": [],
   "source": [
    "camino_minimo_d = [DATA[x-1] for x in camino_minimo]"
   ]
  },
  {
   "cell_type": "code",
   "execution_count": 18,
   "id": "33df91e3-ae2d-4758-9b30-d096c2ae2faa",
   "metadata": {},
   "outputs": [],
   "source": [
    "def calcular_distancias_l(l):\n",
    "    total = 0\n",
    "    _, _, x0, y0 = l[0]\n",
    "    for k1, dem1, x1, y1 in l[1:]:\n",
    "        total += math.sqrt((x0 - x1) ** 2 + (y0 - y1) ** 2)\n",
    "        x0, y0 = x1, y1\n",
    "    _, _, xo, yo = l[0]\n",
    "    _, _, xf, yf = l[-1]\n",
    "    total += math.sqrt((xo - xf) ** 2 + (yo - yf) ** 2)\n",
    "    return total\n",
    "\n",
    "def cumple_capacidad_l(l, cap):\n",
    "    capacidad_actual = 0\n",
    "    for _, d, _, _ in l:\n",
    "        capacidad_actual += d\n",
    "        if capacidad_actual < 0 or capacidad_actual > cap:\n",
    "            return False\n",
    "    return True"
   ]
  },
  {
   "cell_type": "code",
   "execution_count": 19,
   "id": "0ed448c2-43b2-4a26-b59b-185fa5ac2306",
   "metadata": {},
   "outputs": [
    {
     "name": "stdout",
     "output_type": "stream",
     "text": [
      "7.05 ms ± 413 µs per loop (mean ± std. dev. of 7 runs, 100 loops each)\n"
     ]
    }
   ],
   "source": [
    "%%timeit\n",
    "calcular_distancias_l(camino_minimo_d)"
   ]
  },
  {
   "cell_type": "code",
   "execution_count": 20,
   "id": "3458abd1-1143-4907-b6fa-f93e026efea4",
   "metadata": {},
   "outputs": [
    {
     "name": "stdout",
     "output_type": "stream",
     "text": [
      "1.72 ms ± 59.3 µs per loop (mean ± std. dev. of 7 runs, 100 loops each)\n"
     ]
    }
   ],
   "source": [
    "%%timeit\n",
    "cumple_capacidad_l(camino_minimo_d, CAPACIDAD)"
   ]
  },
  {
   "cell_type": "code",
   "execution_count": 24,
   "id": "0cd33fa8-1534-49df-82da-b056141d1a9a",
   "metadata": {},
   "outputs": [
    {
     "data": {
      "application/vnd.jupyter.widget-view+json": {
       "model_id": "e4f2c70cfada45b3b393c17bc24cfad2",
       "version_major": 2,
       "version_minor": 0
      },
      "text/plain": [
       "0it [00:00, ?it/s]"
      ]
     },
     "metadata": {},
     "output_type": "display_data"
    },
    {
     "name": "stdout",
     "output_type": "stream",
     "text": [
      "Improved from 933431.0259261626 to 933428.6014689032\n",
      "Improved from 933428.6014689032 to 933424.9474884081\n",
      "Improved from 933424.9474884081 to 933421.585712655\n",
      "Improved from 933421.585712655 to 933345.0459729485\n",
      "Improved from 933345.0459729485 to 933335.9992363476\n",
      "Improved from 933335.9992363476 to 933314.7468500973\n",
      "Improved from 933314.7468500973 to 933199.8840161215\n",
      "Improved from 933199.8840161215 to 933198.4090643357\n",
      "Improved from 933198.4090643357 to 933189.908353961\n",
      "Improved from 933189.908353961 to 933179.1683480118\n",
      "Improved from 933179.1683480118 to 933172.8051694665\n",
      "Improved from 933172.8051694665 to 933170.7061874529\n",
      "Improved from 933170.7061874529 to 933169.3164151231\n",
      "Improved from 933169.3164151231 to 933163.4213104999\n",
      "Improved from 933163.4213104999 to 933160.7039759913\n"
     ]
    }
   ],
   "source": [
    "import time\n",
    "\n",
    "path = camino_minimo_d\n",
    "\n",
    "improvement = True\n",
    "best_path = path\n",
    "best_cost = calcular_distancias_l(best_path)\n",
    "capacity_ok = cumple_capacidad_l(best_path, CAPACIDAD)\n",
    "\n",
    "start = time.time()\n",
    "\n",
    "with tqdm() as bar:\n",
    "    while improvement:\n",
    "        if time.time() - start > 60 * 10:\n",
    "            break\n",
    "        improvement = False\n",
    "        for i in range(len(best_path) - 1):\n",
    "            bar.set_description(f\"Empiezo desde {i}\")\n",
    "            for k in range(i + 1, len(best_path)):\n",
    "                bar.update()\n",
    "                new_path = best_path[0:i]\n",
    "                new_path.extend(reversed(best_path[i:k + 1]))\n",
    "                new_path.extend(best_path[k + 1:])\n",
    "\n",
    "                cumple_cap = cumple_capacidad_l(new_path, CAPACIDAD)\n",
    "                if not cumple_cap:\n",
    "                    continue\n",
    "\n",
    "                new_cost = calcular_distancias_l(new_path)\n",
    "\n",
    "                if new_cost >= best_cost:\n",
    "                    continue\n",
    "                else:\n",
    "                    print(f\"Improved from {best_cost} to {new_cost}\")\n",
    "                    best_cost = new_cost\n",
    "                    best_path = new_path\n",
    "                    improvement = True\n",
    "                    break  # improvement found, return to the top of the while loop\n",
    "            if improvement:\n",
    "                break"
   ]
  },
  {
   "cell_type": "code",
   "execution_count": 25,
   "id": "69cb8052-721b-4b49-a031-e91b8b460cc9",
   "metadata": {},
   "outputs": [
    {
     "data": {
      "text/plain": [
       "True"
      ]
     },
     "execution_count": 25,
     "metadata": {},
     "output_type": "execute_result"
    }
   ],
   "source": [
    "cumple_capacidad_l(best_path, CAPACIDAD)"
   ]
  },
  {
   "cell_type": "code",
   "execution_count": 26,
   "id": "0ef019e6-a398-4f83-bda6-3fdc026a7d8f",
   "metadata": {},
   "outputs": [
    {
     "data": {
      "text/plain": [
       "933160.7039759913"
      ]
     },
     "execution_count": 26,
     "metadata": {},
     "output_type": "execute_result"
    }
   ],
   "source": [
    "calcular_distancias_l(best_path)"
   ]
  },
  {
   "cell_type": "code",
   "execution_count": 32,
   "id": "a096e313-62a3-4011-8eff-7797b897af1e",
   "metadata": {},
   "outputs": [],
   "source": [
    "seq_str = \" \".join(map(str, [x[0] for x in best_path]))"
   ]
  },
  {
   "cell_type": "code",
   "execution_count": 34,
   "id": "e52364db-8640-4632-a154-e8135fe3d2e9",
   "metadata": {},
   "outputs": [],
   "source": [
    "with open(\"entrega2_greedy_plus_2opt.txt\", \"w\") as f:\n",
    "    f.write(seq_str)"
   ]
  },
  {
   "cell_type": "code",
   "execution_count": null,
   "id": "30058486-a46a-42e4-8a56-a2dbf576bf55",
   "metadata": {},
   "outputs": [],
   "source": []
  }
 ],
 "metadata": {
  "kernelspec": {
   "display_name": "Python 3 (ipykernel)",
   "language": "python",
   "name": "python3"
  },
  "language_info": {
   "codemirror_mode": {
    "name": "ipython",
    "version": 3
   },
   "file_extension": ".py",
   "mimetype": "text/x-python",
   "name": "python",
   "nbconvert_exporter": "python",
   "pygments_lexer": "ipython3",
   "version": "3.8.13"
  }
 },
 "nbformat": 4,
 "nbformat_minor": 5
}
