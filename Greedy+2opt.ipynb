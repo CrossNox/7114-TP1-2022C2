{
 "cells": [
  {
   "cell_type": "code",
   "execution_count": 4,
   "id": "9616dc40-5b33-456d-b932-7d6e382c8e96",
   "metadata": {},
   "outputs": [],
   "source": [
    "from utils import (\n",
    "    download_file,\n",
    "    parsear_archivo,\n",
    "    random_path,\n",
    "    calcular_distancias,\n",
    "    cumple_capacidad,\n",
    "    dist\n",
    ")\n",
    "from tqdm.notebook import tqdm as tqdm"
   ]
  },
  {
   "cell_type": "code",
   "execution_count": 5,
   "id": "2343ec00-c61e-4cab-b1bb-5283be75e468",
   "metadata": {},
   "outputs": [
    {
     "data": {
      "application/vnd.jupyter.widget-view+json": {
       "model_id": "112338c197e54b059cedf78f6a4aa327",
       "version_major": 2,
       "version_minor": 0
      },
      "text/plain": [
       "  0%|          | 0.00/4.27k [00:00<?, ?iB/s]"
      ]
     },
     "metadata": {},
     "output_type": "display_data"
    }
   ],
   "source": [
    "download_file(\"https://modelosuno.okapii.com/Problemas/problema2022/problema_uno.txt\", \"problema_uno.txt\", override=True)"
   ]
  },
  {
   "cell_type": "code",
   "execution_count": 6,
   "id": "92950555-4a14-4649-8dc4-711614ccfe25",
   "metadata": {},
   "outputs": [],
   "source": [
    "CAPACIDAD, DIMENSION, DEMANDAS, TIPO_ARISTA, COORDS = parsear_archivo(\"problema_uno.txt\")"
   ]
  },
  {
   "cell_type": "code",
   "execution_count": 7,
   "id": "f537fd43-7101-4341-822d-a5b8ad0f0794",
   "metadata": {},
   "outputs": [
    {
     "data": {
      "application/vnd.jupyter.widget-view+json": {
       "model_id": "2257dd2c17444f838d89884fbdb88529",
       "version_major": 2,
       "version_minor": 0
      },
      "text/plain": [
       "  0%|          | 0/150 [00:00<?, ?it/s]"
      ]
     },
     "metadata": {},
     "output_type": "display_data"
    },
    {
     "name": "stdout",
     "output_type": "stream",
     "text": [
      "CPU times: user 1.63 s, sys: 8.16 ms, total: 1.63 s\n",
      "Wall time: 1.63 s\n"
     ]
    }
   ],
   "source": [
    "%%time\n",
    "costos = []\n",
    "caminos = []\n",
    "\n",
    "for initial in tqdm(range(1, DIMENSION+1)):\n",
    "    if DEMANDAS[initial] < 0:\n",
    "        continue\n",
    "    seq = [initial]\n",
    "    capacities = [DEMANDAS[initial]]\n",
    "\n",
    "    while len(seq) < DIMENSION:\n",
    "        last = seq[-1]\n",
    "        last_capacity = capacities[-1]\n",
    "\n",
    "        candidates = [k for k, v in DEMANDAS.items() if 0 <= last_capacity + v <= CAPACIDAD and k not in seq]\n",
    "\n",
    "        best_candidate = None\n",
    "        best_distance = None\n",
    "        for candidate in candidates:\n",
    "            d = dist(candidate, last, COORDS)\n",
    "            if best_distance is None or d < best_distance:\n",
    "                best_candidate = candidate\n",
    "                best_distance = d\n",
    "\n",
    "        seq.append(best_candidate)\n",
    "        capacities.append(last_capacity + DEMANDAS[best_candidate])\n",
    "    \n",
    "    costos.append(calcular_distancias(seq, COORDS))\n",
    "    caminos.append(seq)"
   ]
  },
  {
   "cell_type": "code",
   "execution_count": 8,
   "id": "a8b14fab-51a3-4646-933a-e4e6a381ef6c",
   "metadata": {},
   "outputs": [
    {
     "name": "stdout",
     "output_type": "stream",
     "text": [
      "31\n",
      "True\n",
      "8428.020072199306\n"
     ]
    }
   ],
   "source": [
    "idx_minimo = costos.index(min(costos))\n",
    "camino_minimo = caminos[idx_minimo]\n",
    "\n",
    "print(idx_minimo)\n",
    "print(cumple_capacidad(camino_minimo, DEMANDAS, CAPACIDAD))\n",
    "print(calcular_distancias(camino_minimo, COORDS))"
   ]
  },
  {
   "cell_type": "code",
   "execution_count": 16,
   "id": "0cd33fa8-1534-49df-82da-b056141d1a9a",
   "metadata": {},
   "outputs": [
    {
     "name": "stdout",
     "output_type": "stream",
     "text": [
      "Improved from 8428.020072199306 for 8414.931779851968\n",
      "Improved from 8414.931779851968 for 8398.048417209699\n",
      "Improved from 8398.048417209699 for 8385.504330749312\n",
      "Improved from 8385.504330749312 for 8361.648400310136\n",
      "Improved from 8361.648400310136 for 8345.858858849702\n",
      "Improved from 8345.858858849702 for 8330.209236513441\n",
      "Improved from 8330.209236513441 for 8261.132283239298\n",
      "Improved from 8261.132283239298 for 8208.23080589449\n",
      "Improved from 8208.23080589449 for 8183.621946889229\n",
      "Improved from 8183.621946889229 for 8106.021273276528\n",
      "Improved from 8106.021273276528 for 8060.453465847144\n",
      "Improved from 8060.453465847144 for 8004.496975088792\n",
      "Improved from 8004.496975088792 for 7992.057706091682\n",
      "Improved from 7992.057706091682 for 7985.646752289846\n",
      "Improved from 7985.646752289846 for 7979.427534222015\n",
      "Improved from 7979.427534222015 for 7979.419172637662\n",
      "Improved from 7979.419172637662 for 7948.827987532666\n",
      "Improved from 7948.827987532666 for 7927.486321845482\n",
      "Improved from 7927.486321845482 for 7922.046690158402\n",
      "Improved from 7922.046690158402 for 7908.470674055119\n",
      "Improved from 7908.470674055119 for 7900.957889538818\n",
      "Improved from 7900.957889538818 for 7883.751045984328\n",
      "Improved from 7883.751045984328 for 7863.733102238173\n",
      "Improved from 7863.733102238173 for 7832.894506140792\n",
      "Improved from 7832.894506140792 for 7815.878420373433\n",
      "CPU times: user 16.9 s, sys: 11.8 ms, total: 16.9 s\n",
      "Wall time: 16.9 s\n"
     ]
    }
   ],
   "source": [
    "%%time\n",
    "path = camino_minimo\n",
    "\n",
    "improvement = True\n",
    "best_path = path\n",
    "best_cost = calcular_distancias(best_path, COORDS)\n",
    "capacity_ok = cumple_capacidad(best_path, DEMANDAS, CAPACIDAD)\n",
    "\n",
    "while improvement:\n",
    "    improvement = False\n",
    "    for i in range(len(best_path) - 1):\n",
    "        for k in range(i + 1, len(best_path)):\n",
    "            new_path = best_path[0:i]\n",
    "            new_path.extend(reversed(best_path[i:k + 1]))\n",
    "            new_path.extend(best_path[k + 1:])\n",
    "            new_cost = calcular_distancias(new_path, COORDS)\n",
    "            \n",
    "            if capacity_ok:\n",
    "                if not cumple_capacidad(new_path, DEMANDAS, CAPACIDAD):\n",
    "                    continue\n",
    "            elif cumple_capacidad(new_path, DEMANDAS, CAPACIDAD):\n",
    "                capacity_ok = True\n",
    "\n",
    "            if new_cost < best_cost:\n",
    "                print(f\"Improved from {best_cost} for {new_cost}\")\n",
    "                best_cost = new_cost\n",
    "                best_path = new_path\n",
    "                improvement = True\n",
    "                break  # improvement found, return to the top of the while loop\n",
    "        if improvement:\n",
    "            break"
   ]
  },
  {
   "cell_type": "code",
   "execution_count": 22,
   "id": "69cb8052-721b-4b49-a031-e91b8b460cc9",
   "metadata": {},
   "outputs": [
    {
     "data": {
      "text/plain": [
       "True"
      ]
     },
     "execution_count": 22,
     "metadata": {},
     "output_type": "execute_result"
    }
   ],
   "source": [
    "cumple_capacidad(best_path, DEMANDAS, CAPACIDAD)"
   ]
  },
  {
   "cell_type": "code",
   "execution_count": 23,
   "id": "0ef019e6-a398-4f83-bda6-3fdc026a7d8f",
   "metadata": {},
   "outputs": [
    {
     "data": {
      "text/plain": [
       "7815.878420373433"
      ]
     },
     "execution_count": 23,
     "metadata": {},
     "output_type": "execute_result"
    }
   ],
   "source": [
    "calcular_distancias(best_path, COORDS)"
   ]
  },
  {
   "cell_type": "code",
   "execution_count": 24,
   "id": "a096e313-62a3-4011-8eff-7797b897af1e",
   "metadata": {},
   "outputs": [
    {
     "name": "stdout",
     "output_type": "stream",
     "text": [
      "80 14 122 77 23 38 32 131 67 43 109 134 54 92 90 46 138 51 20 25 141 58 55 65 85 132 50 137 102 114 99 19 108 70 135 86 29 81 110 47 139 40 53 12 24 118 116 101 41 57 117 129 27 31 123 74 13 106 91 119 68 128 45 71 64 44 150 115 4 104 22 62 149 125 21 78 15 133 111 105 33 126 52 16 59 79 121 88 94 10 113 3 48 63 73 76 87 1 98 103 34 30 84 7 8 89 96 35 124 93 97 100 5 107 95 82 143 142 18 75 26 146 56 83 2 37 9 6 28 42 120 127 69 36 61 11 148 130 39 60 66 17 140 136 112 145 144 147 49 72\n"
     ]
    }
   ],
   "source": [
    "seq_str = \" \".join(map(str, best_path))\n",
    "print(seq_str)"
   ]
  },
  {
   "cell_type": "code",
   "execution_count": 25,
   "id": "e52364db-8640-4632-a154-e8135fe3d2e9",
   "metadata": {},
   "outputs": [],
   "source": [
    "with open(\"entrega_greedy_plus_2opt.txt\", \"w\") as f:\n",
    "    f.write(seq_str)"
   ]
  },
  {
   "cell_type": "code",
   "execution_count": null,
   "id": "30058486-a46a-42e4-8a56-a2dbf576bf55",
   "metadata": {},
   "outputs": [],
   "source": []
  }
 ],
 "metadata": {
  "kernelspec": {
   "display_name": "Python 3 (ipykernel)",
   "language": "python",
   "name": "python3"
  },
  "language_info": {
   "codemirror_mode": {
    "name": "ipython",
    "version": 3
   },
   "file_extension": ".py",
   "mimetype": "text/x-python",
   "name": "python",
   "nbconvert_exporter": "python",
   "pygments_lexer": "ipython3",
   "version": "3.8.13"
  }
 },
 "nbformat": 4,
 "nbformat_minor": 5
}
