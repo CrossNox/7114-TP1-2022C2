{
 "cells": [
  {
   "cell_type": "code",
   "execution_count": 1,
   "id": "9616dc40-5b33-456d-b932-7d6e382c8e96",
   "metadata": {},
   "outputs": [],
   "source": [
    "from utils import (\n",
    "    download_file,\n",
    "    parsear_archivo,\n",
    "    random_path,\n",
    "    calcular_distancias,\n",
    "    cumple_capacidad,\n",
    "    dist\n",
    ")\n",
    "from tqdm.notebook import tqdm as tqdm\n",
    "import math"
   ]
  },
  {
   "cell_type": "markdown",
   "id": "45673ca9-6ceb-4a9d-9222-684cdceac375",
   "metadata": {},
   "source": [
    "# Descargo y parseo datos"
   ]
  },
  {
   "cell_type": "code",
   "execution_count": 2,
   "id": "2343ec00-c61e-4cab-b1bb-5283be75e468",
   "metadata": {},
   "outputs": [
    {
     "data": {
      "application/vnd.jupyter.widget-view+json": {
       "model_id": "be8cf5f0175f4175aab043256f908b36",
       "version_major": 2,
       "version_minor": 0
      },
      "text/plain": [
       "  0%|          | 0.00/2.66k [00:00<?, ?iB/s]"
      ]
     },
     "metadata": {},
     "output_type": "display_data"
    }
   ],
   "source": [
    "download_file(\"https://modelosuno.okapii.com/Problemas/problema2022/problema_tres.txt\", \"problema_tres.txt\", override=True)"
   ]
  },
  {
   "cell_type": "code",
   "execution_count": 8,
   "id": "92950555-4a14-4649-8dc4-711614ccfe25",
   "metadata": {},
   "outputs": [],
   "source": [
    "CAPACIDAD, DIMENSION, DEMANDAS, TIPO_ARISTA, COORDS = parsear_archivo(\"problema_tres.txt\")"
   ]
  },
  {
   "cell_type": "code",
   "execution_count": 24,
   "id": "bea1d778-9274-431a-ac66-939424dc35a5",
   "metadata": {},
   "outputs": [],
   "source": [
    "COORDS_S = {\n",
    "    k: (v[\"x\"], v[\"y\"]) for k, v in COORDS.items()\n",
    "}"
   ]
  },
  {
   "cell_type": "markdown",
   "id": "7638adc3-6ca9-4610-be5c-31fc89810528",
   "metadata": {},
   "source": [
    "# Armo recorridos"
   ]
  },
  {
   "cell_type": "code",
   "execution_count": 25,
   "id": "121ed4dd-e9e5-46e6-8e31-299c8214556f",
   "metadata": {},
   "outputs": [],
   "source": [
    "class LoopError(Exception):\n",
    "    pass"
   ]
  },
  {
   "cell_type": "code",
   "execution_count": 26,
   "id": "50809aa0-b340-4938-95be-7eea53ff7469",
   "metadata": {},
   "outputs": [],
   "source": [
    "import multiprocessing as mp\n",
    "\n",
    "def generar_camino(initial, dimension, coords_s):\n",
    "    try:\n",
    "        seq = [initial]\n",
    "        seqset = set(seq)\n",
    "\n",
    "        for _ in range(dimension - 1):\n",
    "            # while len(seq) < DIMENSION:\n",
    "            last = seq[-1]\n",
    "            x0, y0 = coords_s[last]\n",
    "\n",
    "            best_candidate = None\n",
    "            best_distance = math.inf\n",
    "\n",
    "            for k, (x1, y1) in coords_s.items():\n",
    "                if k in seqset:\n",
    "                    continue\n",
    "                d = (x0 - x1) ** 2 + (y0 - y1) ** 2\n",
    "                if d < best_distance:\n",
    "                    best_candidate = k\n",
    "                    best_distance = d\n",
    "\n",
    "            if best_candidate is None:\n",
    "                raise LoopError\n",
    "\n",
    "            seq.append(best_candidate)\n",
    "            seqset.add(best_candidate)\n",
    "\n",
    "        return seq\n",
    "    except LoopError:\n",
    "        return None\n",
    "\n",
    "import functools\n",
    "\n",
    "initial_candidates = list(COORDS_S.keys())\n",
    "initial_candidates = tuple(initial_candidates)"
   ]
  },
  {
   "cell_type": "code",
   "execution_count": 28,
   "id": "9eccb9e6-1ec2-46b5-8add-827f82f35d18",
   "metadata": {},
   "outputs": [
    {
     "data": {
      "application/vnd.jupyter.widget-view+json": {
       "model_id": "b3c9e3ebdda842ffbe0237bf47fcfc8e",
       "version_major": 2,
       "version_minor": 0
      },
      "text/plain": [
       "  0%|          | 0/100 [00:00<?, ?it/s]"
      ]
     },
     "metadata": {},
     "output_type": "display_data"
    }
   ],
   "source": [
    "costos = []\n",
    "caminos = []\n",
    "\n",
    "with mp.Pool(24) as p, tqdm(total=len(initial_candidates)) as bar:\n",
    "    f = functools.partial(\n",
    "        generar_camino,\n",
    "        dimension=DIMENSION,\n",
    "        coords_s=COORDS_S\n",
    "    )\n",
    "    rs = p.imap(f, initial_candidates)\n",
    "    for r in rs:\n",
    "        bar.update(1)\n",
    "        if r is not None:\n",
    "            caminos.append(r)\n",
    "            costos.append(calcular_distancias(r, COORDS))"
   ]
  },
  {
   "cell_type": "code",
   "execution_count": 33,
   "id": "a8b14fab-51a3-4646-933a-e4e6a381ef6c",
   "metadata": {},
   "outputs": [
    {
     "name": "stdout",
     "output_type": "stream",
     "text": [
      "63\n",
      "5632.4894935543825\n"
     ]
    }
   ],
   "source": [
    "idx_minimo = costos.index(min(costos))\n",
    "camino_minimo = caminos[idx_minimo]\n",
    "\n",
    "print(idx_minimo)\n",
    "print(calcular_distancias(camino_minimo, COORDS))"
   ]
  },
  {
   "cell_type": "code",
   "execution_count": 57,
   "id": "2d956e5f-8724-4251-8eee-bcc503663610",
   "metadata": {},
   "outputs": [
    {
     "data": {
      "text/plain": [
       "100"
      ]
     },
     "execution_count": 57,
     "metadata": {},
     "output_type": "execute_result"
    }
   ],
   "source": [
    "len(caminos)"
   ]
  },
  {
   "cell_type": "code",
   "execution_count": 36,
   "id": "9809266c-6c31-4ec1-a863-26e7484cb570",
   "metadata": {},
   "outputs": [],
   "source": [
    "camino_minimo_d = [(x, *COORDS_S[x]) for x in camino_minimo]"
   ]
  },
  {
   "cell_type": "code",
   "execution_count": 43,
   "id": "33df91e3-ae2d-4758-9b30-d096c2ae2faa",
   "metadata": {},
   "outputs": [],
   "source": [
    "def calcular_distancias_l(l):\n",
    "    total = 0\n",
    "    _, x0, y0 = l[0]\n",
    "    for k1, x1, y1 in l[1:]:\n",
    "        total += math.sqrt((x0 - x1) ** 2 + (y0 - y1) ** 2)\n",
    "        x0, y0 = x1, y1\n",
    "    _, xo, yo = l[0]\n",
    "    _, xf, yf = l[-1]\n",
    "    total += math.sqrt((xo - xf) ** 2 + (yo - yf) ** 2)\n",
    "    return total"
   ]
  },
  {
   "cell_type": "code",
   "execution_count": 44,
   "id": "0ed448c2-43b2-4a26-b59b-185fa5ac2306",
   "metadata": {},
   "outputs": [
    {
     "name": "stdout",
     "output_type": "stream",
     "text": [
      "31.3 µs ± 107 ns per loop (mean ± std. dev. of 7 runs, 10000 loops each)\n"
     ]
    }
   ],
   "source": [
    "%%timeit\n",
    "calcular_distancias_l(camino_minimo_d)"
   ]
  },
  {
   "cell_type": "code",
   "execution_count": 47,
   "id": "0cd33fa8-1534-49df-82da-b056141d1a9a",
   "metadata": {},
   "outputs": [
    {
     "data": {
      "application/vnd.jupyter.widget-view+json": {
       "model_id": "620213dceb6e42f793e6794cd889e5b9",
       "version_major": 2,
       "version_minor": 0
      },
      "text/plain": [
       "0it [00:00, ?it/s]"
      ]
     },
     "metadata": {},
     "output_type": "display_data"
    },
    {
     "name": "stdout",
     "output_type": "stream",
     "text": [
      "Improved from 5632.4894935543825 to 5625.341388018519\n",
      "Improved from 5625.341388018519 to 5596.654118805673\n",
      "Improved from 5596.654118805673 to 5596.654118805672\n",
      "Improved from 5596.654118805672 to 5585.762115588537\n",
      "Improved from 5585.762115588537 to 5585.7621155885345\n",
      "Improved from 5585.7621155885345 to 5578.690474819879\n",
      "Improved from 5578.690474819879 to 5567.535696987123\n",
      "Improved from 5567.535696987123 to 5525.63423942725\n",
      "Improved from 5525.63423942725 to 5487.280179547477\n",
      "Improved from 5487.280179547477 to 5456.864323272974\n",
      "Improved from 5456.864323272974 to 5411.213493768052\n"
     ]
    }
   ],
   "source": [
    "import time\n",
    "\n",
    "path = camino_minimo_d\n",
    "\n",
    "improvement = True\n",
    "best_path = path\n",
    "best_cost = calcular_distancias_l(best_path)\n",
    "\n",
    "start = time.time()\n",
    "\n",
    "with tqdm() as bar:\n",
    "    while improvement:\n",
    "        if time.time() - start > 60 * 60:\n",
    "            break\n",
    "        improvement = False\n",
    "        for i in range(len(best_path) - 1):\n",
    "            bar.set_description(f\"Empiezo desde {i}\")\n",
    "            for k in range(i + 1, len(best_path)):\n",
    "                bar.update()\n",
    "                new_path = best_path[0:i]\n",
    "                new_path.extend(reversed(best_path[i:k + 1]))\n",
    "                new_path.extend(best_path[k + 1:])\n",
    "\n",
    "                new_cost = calcular_distancias_l(new_path)\n",
    "\n",
    "                if new_cost >= best_cost:\n",
    "                    continue\n",
    "                else:\n",
    "                    print(f\"Improved from {best_cost} to {new_cost}\")\n",
    "                    best_cost = new_cost\n",
    "                    best_path = new_path\n",
    "                    improvement = True\n",
    "                    break  # improvement found, return to the top of the while loop\n",
    "            if improvement:\n",
    "                break"
   ]
  },
  {
   "cell_type": "code",
   "execution_count": 49,
   "id": "0ef019e6-a398-4f83-bda6-3fdc026a7d8f",
   "metadata": {},
   "outputs": [
    {
     "data": {
      "text/plain": [
       "5411.213493768052"
      ]
     },
     "execution_count": 49,
     "metadata": {},
     "output_type": "execute_result"
    }
   ],
   "source": [
    "calcular_distancias_l(best_path)"
   ]
  },
  {
   "cell_type": "code",
   "execution_count": 50,
   "id": "a096e313-62a3-4011-8eff-7797b897af1e",
   "metadata": {},
   "outputs": [],
   "source": [
    "seq_str = \" \".join(map(str, [x[0] for x in best_path]))"
   ]
  },
  {
   "cell_type": "code",
   "execution_count": 51,
   "id": "e52364db-8640-4632-a154-e8135fe3d2e9",
   "metadata": {},
   "outputs": [],
   "source": [
    "with open(\"entrega3_greedy_plus_2opt.txt\", \"w\") as f:\n",
    "    f.write(seq_str)"
   ]
  },
  {
   "cell_type": "code",
   "execution_count": 55,
   "id": "e33fba6a-463f-4d48-b9e7-a54931d96e8a",
   "metadata": {},
   "outputs": [
    {
     "name": "stdout",
     "output_type": "stream",
     "text": [
      "[64, 44, 71, 45, 4, 68, 91, 13, 74, 31, 27, 49, 72, 80, 14, 77, 15, 78, 16, 59, 79, 88, 94, 10, 63, 34, 98, 7, 84, 30, 8, 89, 96, 35, 93, 52, 33, 92, 54, 46, 90, 51, 43, 67, 32, 23, 38, 41, 57, 39, 60, 66, 17, 11, 61, 36, 69, 24, 12, 53, 40, 42, 9, 28, 6, 99, 19, 2, 37, 47, 20, 25, 81, 29, 86, 70, 50, 58, 55, 65, 85, 18, 75, 83, 56, 26, 97, 100, 5, 95, 82, 1, 87, 76, 73, 48, 3, 62, 22, 21]\n"
     ]
    }
   ],
   "source": [
    "print([i for i,_,_ in best_path])"
   ]
  },
  {
   "cell_type": "code",
   "execution_count": null,
   "id": "1cde6ebd-e26b-46cd-86c8-539fcc8dc880",
   "metadata": {},
   "outputs": [],
   "source": []
  }
 ],
 "metadata": {
  "kernelspec": {
   "display_name": "Python 3 (ipykernel)",
   "language": "python",
   "name": "python3"
  },
  "language_info": {
   "codemirror_mode": {
    "name": "ipython",
    "version": 3
   },
   "file_extension": ".py",
   "mimetype": "text/x-python",
   "name": "python",
   "nbconvert_exporter": "python",
   "pygments_lexer": "ipython3",
   "version": "3.8.13"
  },
  "widgets": {
   "application/vnd.jupyter.widget-state+json": {
    "state": {
     "0a6ca043bfed4a7f978e2de12e9da691": {
      "model_module": "@jupyter-widgets/controls",
      "model_module_version": "1.5.0",
      "model_name": "FloatProgressModel",
      "state": {
       "bar_style": "success",
       "layout": "IPY_MODEL_3fcd1ae7f648407fb085d4ea23bd8795",
       "max": 2656,
       "style": "IPY_MODEL_1134b1cc7de64ec69cd1408764439ea0",
       "value": 2656
      }
     },
     "0bbfa020f62f4104ad775c298d4ea61e": {
      "model_module": "@jupyter-widgets/controls",
      "model_module_version": "1.5.0",
      "model_name": "FloatProgressModel",
      "state": {
       "bar_style": "danger",
       "layout": "IPY_MODEL_4e6570c0b6bb4c61a54c101767ed3b67",
       "style": "IPY_MODEL_403b5774b9ee42de8fa0f76b8fdb2f3c"
      }
     },
     "0be97542c38d4d469f903ecb25605e53": {
      "model_module": "@jupyter-widgets/base",
      "model_module_version": "1.2.0",
      "model_name": "LayoutModel",
      "state": {}
     },
     "1134b1cc7de64ec69cd1408764439ea0": {
      "model_module": "@jupyter-widgets/controls",
      "model_module_version": "1.5.0",
      "model_name": "ProgressStyleModel",
      "state": {
       "description_width": ""
      }
     },
     "1bf4bdc987ae466bb3716b8d60a461d4": {
      "model_module": "@jupyter-widgets/controls",
      "model_module_version": "1.5.0",
      "model_name": "DescriptionStyleModel",
      "state": {
       "description_width": ""
      }
     },
     "1d4db8eb4a064e3eae92009bbfb37c60": {
      "model_module": "@jupyter-widgets/controls",
      "model_module_version": "1.5.0",
      "model_name": "DescriptionStyleModel",
      "state": {
       "description_width": ""
      }
     },
     "2624cdb03d974d71a4fde35c93eb3ad3": {
      "model_module": "@jupyter-widgets/base",
      "model_module_version": "1.2.0",
      "model_name": "LayoutModel",
      "state": {}
     },
     "27f6e483d2384ced8e7fbd2222f69238": {
      "model_module": "@jupyter-widgets/base",
      "model_module_version": "1.2.0",
      "model_name": "LayoutModel",
      "state": {}
     },
     "2801bd94139c493ba746cf091b47cbac": {
      "model_module": "@jupyter-widgets/base",
      "model_module_version": "1.2.0",
      "model_name": "LayoutModel",
      "state": {}
     },
     "322460ba62214eb187c01a98a1ba7edf": {
      "model_module": "@jupyter-widgets/base",
      "model_module_version": "1.2.0",
      "model_name": "LayoutModel",
      "state": {}
     },
     "36ac80230c914083ae4dbfa2f3405bca": {
      "model_module": "@jupyter-widgets/base",
      "model_module_version": "1.2.0",
      "model_name": "LayoutModel",
      "state": {}
     },
     "3b5d4146ecb34c60b1f823d458bb0500": {
      "model_module": "@jupyter-widgets/controls",
      "model_module_version": "1.5.0",
      "model_name": "DescriptionStyleModel",
      "state": {
       "description_width": ""
      }
     },
     "3c5e6967d22a4a7c80804b830d9c2e06": {
      "model_module": "@jupyter-widgets/controls",
      "model_module_version": "1.5.0",
      "model_name": "HTMLModel",
      "state": {
       "layout": "IPY_MODEL_2801bd94139c493ba746cf091b47cbac",
       "style": "IPY_MODEL_f6b8aaa464aa4530905c3ad70de4e8f1",
       "value": " 100/100 [00:00&lt;00:00, 1903.67it/s]"
      }
     },
     "3df42d78b8114b91876ec914bf6af01e": {
      "model_module": "@jupyter-widgets/controls",
      "model_module_version": "1.5.0",
      "model_name": "HTMLModel",
      "state": {
       "layout": "IPY_MODEL_b65c2cbbbfdf4bba9bd72cd891ddedde",
       "style": "IPY_MODEL_9003166db0a04a42b8b5f74de8257d3c"
      }
     },
     "3fcd1ae7f648407fb085d4ea23bd8795": {
      "model_module": "@jupyter-widgets/base",
      "model_module_version": "1.2.0",
      "model_name": "LayoutModel",
      "state": {}
     },
     "403b5774b9ee42de8fa0f76b8fdb2f3c": {
      "model_module": "@jupyter-widgets/controls",
      "model_module_version": "1.5.0",
      "model_name": "ProgressStyleModel",
      "state": {
       "description_width": ""
      }
     },
     "44520bdca2a645dc999800ed18c4ca1b": {
      "model_module": "@jupyter-widgets/controls",
      "model_module_version": "1.5.0",
      "model_name": "DescriptionStyleModel",
      "state": {
       "description_width": ""
      }
     },
     "462f6ab504b94775a3960d25dc68e922": {
      "model_module": "@jupyter-widgets/controls",
      "model_module_version": "1.5.0",
      "model_name": "DescriptionStyleModel",
      "state": {
       "description_width": ""
      }
     },
     "4748a8f2ae13454bb29e2f744762ba6b": {
      "model_module": "@jupyter-widgets/base",
      "model_module_version": "1.2.0",
      "model_name": "LayoutModel",
      "state": {}
     },
     "4c1cf4ee3ff24cf1beadacf525fdf17a": {
      "model_module": "@jupyter-widgets/controls",
      "model_module_version": "1.5.0",
      "model_name": "FloatProgressModel",
      "state": {
       "bar_style": "success",
       "layout": "IPY_MODEL_e9aeb0c80efb463794fd9582316c92d3",
       "max": 1,
       "style": "IPY_MODEL_dd5fc22d27684f9c851f117e26430f28",
       "value": 1
      }
     },
     "4e6570c0b6bb4c61a54c101767ed3b67": {
      "model_module": "@jupyter-widgets/base",
      "model_module_version": "1.2.0",
      "model_name": "LayoutModel",
      "state": {}
     },
     "4f7030cb9bf94c8e9020bf24e3c448be": {
      "model_module": "@jupyter-widgets/base",
      "model_module_version": "1.2.0",
      "model_name": "LayoutModel",
      "state": {}
     },
     "5844ed90ea51460fa5645f38294895e8": {
      "model_module": "@jupyter-widgets/base",
      "model_module_version": "1.2.0",
      "model_name": "LayoutModel",
      "state": {}
     },
     "6160fef792cb491c98aa0abea2d7b7ff": {
      "model_module": "@jupyter-widgets/controls",
      "model_module_version": "1.5.0",
      "model_name": "DescriptionStyleModel",
      "state": {
       "description_width": ""
      }
     },
     "620213dceb6e42f793e6794cd889e5b9": {
      "model_module": "@jupyter-widgets/controls",
      "model_module_version": "1.5.0",
      "model_name": "HBoxModel",
      "state": {
       "children": [
        "IPY_MODEL_cb36fd9749184fbeaab3d9f4a9511383",
        "IPY_MODEL_4c1cf4ee3ff24cf1beadacf525fdf17a",
        "IPY_MODEL_74e7b694a31248459b55bb23a87fa255"
       ],
       "layout": "IPY_MODEL_66609fa501e9472d919103950a428ac1"
      }
     },
     "66609fa501e9472d919103950a428ac1": {
      "model_module": "@jupyter-widgets/base",
      "model_module_version": "1.2.0",
      "model_name": "LayoutModel",
      "state": {}
     },
     "670c37ad6b4f497280034fb86ca91948": {
      "model_module": "@jupyter-widgets/base",
      "model_module_version": "1.2.0",
      "model_name": "LayoutModel",
      "state": {}
     },
     "68c9304bb49e4670983ac71512c57ae4": {
      "model_module": "@jupyter-widgets/controls",
      "model_module_version": "1.5.0",
      "model_name": "HTMLModel",
      "state": {
       "layout": "IPY_MODEL_e93bec35bb884588b33db97249877ea3",
       "style": "IPY_MODEL_1bf4bdc987ae466bb3716b8d60a461d4",
       "value": " 0/100 [00:00&lt;?, ?it/s]"
      }
     },
     "6e5df7b6aa4f46f289865b2b272e3c82": {
      "model_module": "@jupyter-widgets/controls",
      "model_module_version": "1.5.0",
      "model_name": "ProgressStyleModel",
      "state": {
       "description_width": ""
      }
     },
     "74568ddbd7d6451fa239af68f148a5f9": {
      "model_module": "@jupyter-widgets/base",
      "model_module_version": "1.2.0",
      "model_name": "LayoutModel",
      "state": {}
     },
     "74e7b694a31248459b55bb23a87fa255": {
      "model_module": "@jupyter-widgets/controls",
      "model_module_version": "1.5.0",
      "model_name": "HTMLModel",
      "state": {
       "layout": "IPY_MODEL_0be97542c38d4d469f903ecb25605e53",
       "style": "IPY_MODEL_1d4db8eb4a064e3eae92009bbfb37c60",
       "value": " 30073/? [00:01&lt;00:00, 23629.13it/s]"
      }
     },
     "84c6f5209e5146d6b53b2772a65bbe91": {
      "model_module": "@jupyter-widgets/controls",
      "model_module_version": "1.5.0",
      "model_name": "HTMLModel",
      "state": {
       "layout": "IPY_MODEL_4f7030cb9bf94c8e9020bf24e3c448be",
       "style": "IPY_MODEL_3b5d4146ecb34c60b1f823d458bb0500",
       "value": "100%"
      }
     },
     "84ef4e12fdfb4bcc81ffdea66334e1ae": {
      "model_module": "@jupyter-widgets/controls",
      "model_module_version": "1.5.0",
      "model_name": "HTMLModel",
      "state": {
       "layout": "IPY_MODEL_36ac80230c914083ae4dbfa2f3405bca",
       "style": "IPY_MODEL_6160fef792cb491c98aa0abea2d7b7ff",
       "value": "  0%"
      }
     },
     "8b146ecc9d6940b588ed6ca42823b841": {
      "model_module": "@jupyter-widgets/base",
      "model_module_version": "1.2.0",
      "model_name": "LayoutModel",
      "state": {}
     },
     "8d14f783c76b475b90ca07b414ee9a5b": {
      "model_module": "@jupyter-widgets/controls",
      "model_module_version": "1.5.0",
      "model_name": "DescriptionStyleModel",
      "state": {
       "description_width": ""
      }
     },
     "9003166db0a04a42b8b5f74de8257d3c": {
      "model_module": "@jupyter-widgets/controls",
      "model_module_version": "1.5.0",
      "model_name": "DescriptionStyleModel",
      "state": {
       "description_width": ""
      }
     },
     "9003595811fd44dba47ea588f1018ff7": {
      "model_module": "@jupyter-widgets/controls",
      "model_module_version": "1.5.0",
      "model_name": "FloatProgressModel",
      "state": {
       "bar_style": "success",
       "layout": "IPY_MODEL_c4f6025e7367405cba6732d6cb77eb65",
       "style": "IPY_MODEL_ca923d752f8e47699fa20ab8c362d019",
       "value": 100
      }
     },
     "a40f6844ea0b47f58ed7886344b93c02": {
      "model_module": "@jupyter-widgets/controls",
      "model_module_version": "1.5.0",
      "model_name": "HTMLModel",
      "state": {
       "layout": "IPY_MODEL_5844ed90ea51460fa5645f38294895e8",
       "style": "IPY_MODEL_44520bdca2a645dc999800ed18c4ca1b",
       "value": "100%"
      }
     },
     "ab7db97a24bc48b2bf6e88687c4d539e": {
      "model_module": "@jupyter-widgets/controls",
      "model_module_version": "1.5.0",
      "model_name": "HTMLModel",
      "state": {
       "layout": "IPY_MODEL_322460ba62214eb187c01a98a1ba7edf",
       "style": "IPY_MODEL_462f6ab504b94775a3960d25dc68e922",
       "value": " 100/100 [00:00&lt;00:00, 3297.46it/s]"
      }
     },
     "ac93cd481c8f448d872ed6c12a5cf50f": {
      "model_module": "@jupyter-widgets/controls",
      "model_module_version": "1.5.0",
      "model_name": "DescriptionStyleModel",
      "state": {
       "description_width": ""
      }
     },
     "b238395796654df6808c5fdf22ea8469": {
      "model_module": "@jupyter-widgets/controls",
      "model_module_version": "1.5.0",
      "model_name": "HBoxModel",
      "state": {
       "children": [
        "IPY_MODEL_84ef4e12fdfb4bcc81ffdea66334e1ae",
        "IPY_MODEL_0bbfa020f62f4104ad775c298d4ea61e",
        "IPY_MODEL_68c9304bb49e4670983ac71512c57ae4"
       ],
       "layout": "IPY_MODEL_4748a8f2ae13454bb29e2f744762ba6b"
      }
     },
     "b3c9e3ebdda842ffbe0237bf47fcfc8e": {
      "model_module": "@jupyter-widgets/controls",
      "model_module_version": "1.5.0",
      "model_name": "HBoxModel",
      "state": {
       "children": [
        "IPY_MODEL_a40f6844ea0b47f58ed7886344b93c02",
        "IPY_MODEL_e9354b2210f44acfab92fb8b3283d827",
        "IPY_MODEL_3c5e6967d22a4a7c80804b830d9c2e06"
       ],
       "layout": "IPY_MODEL_27f6e483d2384ced8e7fbd2222f69238"
      }
     },
     "b65c2cbbbfdf4bba9bd72cd891ddedde": {
      "model_module": "@jupyter-widgets/base",
      "model_module_version": "1.2.0",
      "model_name": "LayoutModel",
      "state": {}
     },
     "be8cf5f0175f4175aab043256f908b36": {
      "model_module": "@jupyter-widgets/controls",
      "model_module_version": "1.5.0",
      "model_name": "HBoxModel",
      "state": {
       "children": [
        "IPY_MODEL_3df42d78b8114b91876ec914bf6af01e",
        "IPY_MODEL_0a6ca043bfed4a7f978e2de12e9da691",
        "IPY_MODEL_f3316dc2a5eb467aabd09ef2d6ff48c6"
       ],
       "layout": "IPY_MODEL_74568ddbd7d6451fa239af68f148a5f9"
      }
     },
     "c4f6025e7367405cba6732d6cb77eb65": {
      "model_module": "@jupyter-widgets/base",
      "model_module_version": "1.2.0",
      "model_name": "LayoutModel",
      "state": {}
     },
     "ca923d752f8e47699fa20ab8c362d019": {
      "model_module": "@jupyter-widgets/controls",
      "model_module_version": "1.5.0",
      "model_name": "ProgressStyleModel",
      "state": {
       "description_width": ""
      }
     },
     "cb36fd9749184fbeaab3d9f4a9511383": {
      "model_module": "@jupyter-widgets/controls",
      "model_module_version": "1.5.0",
      "model_name": "HTMLModel",
      "state": {
       "layout": "IPY_MODEL_eb6c3f74b7484e0dadb1808b57ebed6d",
       "style": "IPY_MODEL_ac93cd481c8f448d872ed6c12a5cf50f",
       "value": "Empiezo desde 98: "
      }
     },
     "dd5fc22d27684f9c851f117e26430f28": {
      "model_module": "@jupyter-widgets/controls",
      "model_module_version": "1.5.0",
      "model_name": "ProgressStyleModel",
      "state": {
       "description_width": ""
      }
     },
     "e4908e1efbdb4d9688408bd3c9369aa6": {
      "model_module": "@jupyter-widgets/controls",
      "model_module_version": "1.5.0",
      "model_name": "HBoxModel",
      "state": {
       "children": [
        "IPY_MODEL_84c6f5209e5146d6b53b2772a65bbe91",
        "IPY_MODEL_9003595811fd44dba47ea588f1018ff7",
        "IPY_MODEL_ab7db97a24bc48b2bf6e88687c4d539e"
       ],
       "layout": "IPY_MODEL_670c37ad6b4f497280034fb86ca91948"
      }
     },
     "e9354b2210f44acfab92fb8b3283d827": {
      "model_module": "@jupyter-widgets/controls",
      "model_module_version": "1.5.0",
      "model_name": "FloatProgressModel",
      "state": {
       "bar_style": "success",
       "layout": "IPY_MODEL_8b146ecc9d6940b588ed6ca42823b841",
       "style": "IPY_MODEL_6e5df7b6aa4f46f289865b2b272e3c82",
       "value": 100
      }
     },
     "e93bec35bb884588b33db97249877ea3": {
      "model_module": "@jupyter-widgets/base",
      "model_module_version": "1.2.0",
      "model_name": "LayoutModel",
      "state": {}
     },
     "e9aeb0c80efb463794fd9582316c92d3": {
      "model_module": "@jupyter-widgets/base",
      "model_module_version": "1.2.0",
      "model_name": "LayoutModel",
      "state": {
       "width": "20px"
      }
     },
     "eb6c3f74b7484e0dadb1808b57ebed6d": {
      "model_module": "@jupyter-widgets/base",
      "model_module_version": "1.2.0",
      "model_name": "LayoutModel",
      "state": {}
     },
     "f3316dc2a5eb467aabd09ef2d6ff48c6": {
      "model_module": "@jupyter-widgets/controls",
      "model_module_version": "1.5.0",
      "model_name": "HTMLModel",
      "state": {
       "layout": "IPY_MODEL_2624cdb03d974d71a4fde35c93eb3ad3",
       "style": "IPY_MODEL_8d14f783c76b475b90ca07b414ee9a5b",
       "value": " 3.36k/? [00:00&lt;00:00, 90.0kiB/s]"
      }
     },
     "f6b8aaa464aa4530905c3ad70de4e8f1": {
      "model_module": "@jupyter-widgets/controls",
      "model_module_version": "1.5.0",
      "model_name": "DescriptionStyleModel",
      "state": {
       "description_width": ""
      }
     }
    },
    "version_major": 2,
    "version_minor": 0
   }
  }
 },
 "nbformat": 4,
 "nbformat_minor": 5
}
