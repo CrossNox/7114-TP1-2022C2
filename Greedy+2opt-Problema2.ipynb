{
 "cells": [
  {
   "cell_type": "code",
   "execution_count": 1,
   "id": "9616dc40-5b33-456d-b932-7d6e382c8e96",
   "metadata": {},
   "outputs": [],
   "source": [
    "from utils import (\n",
    "    download_file,\n",
    "    parsear_archivo,\n",
    "    random_path,\n",
    "    calcular_distancias,\n",
    "    cumple_capacidad,\n",
    "    dist\n",
    ")\n",
    "from tqdm.notebook import tqdm as tqdm\n",
    "import math"
   ]
  },
  {
   "cell_type": "markdown",
   "id": "45673ca9-6ceb-4a9d-9222-684cdceac375",
   "metadata": {},
   "source": [
    "# Descargo y parseo datos"
   ]
  },
  {
   "cell_type": "code",
   "execution_count": 2,
   "id": "2343ec00-c61e-4cab-b1bb-5283be75e468",
   "metadata": {},
   "outputs": [
    {
     "data": {
      "application/vnd.jupyter.widget-view+json": {
       "model_id": "d594ef5059cf43c2b3a965fb176b464e",
       "version_major": 2,
       "version_minor": 0
      },
      "text/plain": [
       "0.00iB [00:00, ?iB/s]"
      ]
     },
     "metadata": {},
     "output_type": "display_data"
    }
   ],
   "source": [
    "download_file(\"https://modelosuno.okapii.com/Problemas/problema2022/problema_dos.txt\", \"problema_dos.txt\", override=True)"
   ]
  },
  {
   "cell_type": "code",
   "execution_count": 3,
   "id": "92950555-4a14-4649-8dc4-711614ccfe25",
   "metadata": {},
   "outputs": [],
   "source": [
    "CAPACIDAD, DIMENSION, DEMANDAS, TIPO_ARISTA, COORDS = parsear_archivo(\"problema_dos.txt\")"
   ]
  },
  {
   "cell_type": "code",
   "execution_count": 4,
   "id": "bea1d778-9274-431a-ac66-939424dc35a5",
   "metadata": {},
   "outputs": [],
   "source": [
    "DATA = [\n",
    "    (k, v, COORDS[k][\"x\"], COORDS[k][\"y\"]) for k,v in DEMANDAS.items()\n",
    "]\n",
    "COORDS_S = {\n",
    "    k: (v[\"x\"], v[\"y\"]) for k, v in COORDS.items()\n",
    "}"
   ]
  },
  {
   "cell_type": "markdown",
   "id": "7638adc3-6ca9-4610-be5c-31fc89810528",
   "metadata": {},
   "source": [
    "# Armo recorridos"
   ]
  },
  {
   "cell_type": "code",
   "execution_count": 5,
   "id": "121ed4dd-e9e5-46e6-8e31-299c8214556f",
   "metadata": {},
   "outputs": [],
   "source": [
    "class LoopError(Exception):\n",
    "    pass"
   ]
  },
  {
   "cell_type": "code",
   "execution_count": 11,
   "id": "50809aa0-b340-4938-95be-7eea53ff7469",
   "metadata": {},
   "outputs": [],
   "source": [
    "import multiprocessing as mp\n",
    "\n",
    "def generar_camino(initial, demandas, data, dimension, coords_s, capacidad):\n",
    "    try:\n",
    "        if demandas[initial] < 0:\n",
    "            return None\n",
    "        seq = [initial]\n",
    "        seqset = set(seq)\n",
    "        capacities = [demandas[initial]]\n",
    "\n",
    "        for _ in range(dimension - 1):\n",
    "            # while len(seq) < DIMENSION:\n",
    "            last = seq[-1]\n",
    "            last_capacity = capacities[-1]\n",
    "            x0, y0 = coords_s[last]\n",
    "\n",
    "            best_candidate = None\n",
    "            best_distance = math.inf\n",
    "\n",
    "            for k, dem, x1, y1 in data:\n",
    "                if k in seqset:\n",
    "                    continue\n",
    "                if not 0 <= last_capacity + dem <= capacidad:\n",
    "                    continue\n",
    "                d = (x0 - x1) ** 2 + (y0 - y1) ** 2\n",
    "                if d < best_distance:\n",
    "                    best_candidate = k\n",
    "                    best_distance = d\n",
    "\n",
    "            if best_candidate is None:\n",
    "                raise LoopError\n",
    "\n",
    "            seq.append(best_candidate)\n",
    "            seqset.add(best_candidate)\n",
    "            capacities.append(last_capacity + demandas[best_candidate])\n",
    "\n",
    "        return seq\n",
    "    except LoopError:\n",
    "        return None\n",
    "\n",
    "import functools\n",
    "\n",
    "initial_candidates = []\n",
    "ncandidates = 1000\n",
    "\n",
    "for i in range(1, DIMENSION+1):\n",
    "    if len(initial_candidates) >= ncandidates:\n",
    "        break\n",
    "    if DEMANDAS[i] >= 0:\n",
    "        initial_candidates.append(i)\n",
    "\n",
    "initial_candidates = tuple(initial_candidates)"
   ]
  },
  {
   "cell_type": "code",
   "execution_count": 12,
   "id": "9eccb9e6-1ec2-46b5-8add-827f82f35d18",
   "metadata": {},
   "outputs": [
    {
     "data": {
      "application/vnd.jupyter.widget-view+json": {
       "model_id": "717affc8c55a48fb8c0bd08394c99391",
       "version_major": 2,
       "version_minor": 0
      },
      "text/plain": [
       "  0%|          | 0/1000 [00:00<?, ?it/s]"
      ]
     },
     "metadata": {},
     "output_type": "display_data"
    }
   ],
   "source": [
    "costos = []\n",
    "caminos = []\n",
    "\n",
    "with mp.Pool(24) as p, tqdm(total=len(initial_candidates)) as bar:\n",
    "    f = functools.partial(\n",
    "        generar_camino,\n",
    "        demandas=DEMANDAS,\n",
    "        data=DATA,\n",
    "        dimension=DIMENSION,\n",
    "        coords_s=COORDS_S,\n",
    "        capacidad=CAPACIDAD\n",
    "    )\n",
    "    rs = p.imap(f, initial_candidates)\n",
    "    for r in rs:\n",
    "        bar.update(1)\n",
    "        if r is not None:\n",
    "            caminos.append(r)\n",
    "            costos.append(calcular_distancias(r, COORDS))"
   ]
  },
  {
   "cell_type": "code",
   "execution_count": 13,
   "id": "a8b14fab-51a3-4646-933a-e4e6a381ef6c",
   "metadata": {},
   "outputs": [
    {
     "name": "stdout",
     "output_type": "stream",
     "text": [
      "159\n",
      "True\n",
      "921761.7640533583\n"
     ]
    }
   ],
   "source": [
    "idx_minimo = costos.index(min(costos))\n",
    "camino_minimo = caminos[idx_minimo]\n",
    "\n",
    "print(idx_minimo)\n",
    "print(cumple_capacidad(camino_minimo, DEMANDAS, CAPACIDAD))\n",
    "print(calcular_distancias(camino_minimo, COORDS))"
   ]
  },
  {
   "cell_type": "code",
   "execution_count": 14,
   "id": "9809266c-6c31-4ec1-a863-26e7484cb570",
   "metadata": {},
   "outputs": [],
   "source": [
    "camino_minimo_d = [DATA[x-1] for x in camino_minimo]"
   ]
  },
  {
   "cell_type": "code",
   "execution_count": 15,
   "id": "33df91e3-ae2d-4758-9b30-d096c2ae2faa",
   "metadata": {},
   "outputs": [],
   "source": [
    "def calcular_distancias_l(l):\n",
    "    total = 0\n",
    "    _, _, x0, y0 = l[0]\n",
    "    for k1, dem1, x1, y1 in l[1:]:\n",
    "        total += math.sqrt((x0 - x1) ** 2 + (y0 - y1) ** 2)\n",
    "        x0, y0 = x1, y1\n",
    "    _, _, xo, yo = l[0]\n",
    "    _, _, xf, yf = l[-1]\n",
    "    total += math.sqrt((xo - xf) ** 2 + (yo - yf) ** 2)\n",
    "    return total\n",
    "\n",
    "def cumple_capacidad_l(l, cap):\n",
    "    capacidad_actual = 0\n",
    "    for _, d, _, _ in l:\n",
    "        capacidad_actual += d\n",
    "        if capacidad_actual < 0 or capacidad_actual > cap:\n",
    "            return False\n",
    "    return True"
   ]
  },
  {
   "cell_type": "code",
   "execution_count": 16,
   "id": "0ed448c2-43b2-4a26-b59b-185fa5ac2306",
   "metadata": {},
   "outputs": [
    {
     "name": "stdout",
     "output_type": "stream",
     "text": [
      "6.34 ms ± 74.2 µs per loop (mean ± std. dev. of 7 runs, 100 loops each)\n"
     ]
    }
   ],
   "source": [
    "%%timeit\n",
    "calcular_distancias_l(camino_minimo_d)"
   ]
  },
  {
   "cell_type": "code",
   "execution_count": 17,
   "id": "3458abd1-1143-4907-b6fa-f93e026efea4",
   "metadata": {},
   "outputs": [
    {
     "name": "stdout",
     "output_type": "stream",
     "text": [
      "1.7 ms ± 25.6 µs per loop (mean ± std. dev. of 7 runs, 100 loops each)\n"
     ]
    }
   ],
   "source": [
    "%%timeit\n",
    "cumple_capacidad_l(camino_minimo_d, CAPACIDAD)"
   ]
  },
  {
   "cell_type": "code",
   "execution_count": 18,
   "id": "0cd33fa8-1534-49df-82da-b056141d1a9a",
   "metadata": {},
   "outputs": [
    {
     "data": {
      "application/vnd.jupyter.widget-view+json": {
       "model_id": "aa09bba685a541fa86eb247d9d16db78",
       "version_major": 2,
       "version_minor": 0
      },
      "text/plain": [
       "0it [00:00, ?it/s]"
      ]
     },
     "metadata": {},
     "output_type": "display_data"
    },
    {
     "name": "stdout",
     "output_type": "stream",
     "text": [
      "Improved from 921761.7640533583 to 921724.9566062796\n",
      "Improved from 921724.9566062796 to 921688.0024423377\n",
      "Improved from 921688.0024423377 to 921687.6275443455\n",
      "Improved from 921687.6275443455 to 921686.6518935711\n",
      "Improved from 921686.6518935711 to 921661.3107551212\n",
      "Improved from 921661.3107551212 to 921656.051926259\n",
      "Improved from 921656.051926259 to 921642.791620995\n",
      "Improved from 921642.791620995 to 921165.876721186\n",
      "Improved from 921165.876721186 to 921063.446193951\n",
      "Improved from 921063.446193951 to 920983.7658409359\n",
      "Improved from 920983.7658409359 to 920980.5667068079\n",
      "Improved from 920980.5667068079 to 920951.4151889979\n",
      "Improved from 920951.4151889979 to 920941.4035315282\n",
      "Improved from 920941.4035315282 to 920939.7735128897\n",
      "Improved from 920939.7735128897 to 920939.1309590704\n",
      "Improved from 920939.1309590704 to 920933.3796992894\n",
      "Improved from 920933.3796992894 to 920931.6665935831\n",
      "Improved from 920931.6665935831 to 920912.3237446402\n",
      "Improved from 920912.3237446402 to 920903.5104622652\n",
      "Improved from 920903.5104622652 to 920891.6344891555\n",
      "Improved from 920891.6344891555 to 920853.8842321115\n",
      "Improved from 920853.8842321115 to 920853.7499638385\n",
      "Improved from 920853.7499638385 to 920851.6626081286\n",
      "Improved from 920851.6626081286 to 920851.3101506375\n",
      "Improved from 920851.3101506375 to 920848.5037280435\n"
     ]
    }
   ],
   "source": [
    "import time\n",
    "\n",
    "path = camino_minimo_d\n",
    "\n",
    "improvement = True\n",
    "best_path = path\n",
    "best_cost = calcular_distancias_l(best_path)\n",
    "capacity_ok = cumple_capacidad_l(best_path, CAPACIDAD)\n",
    "\n",
    "start = time.time()\n",
    "\n",
    "with tqdm() as bar:\n",
    "    while improvement:\n",
    "        if time.time() - start > 60 * 60:\n",
    "            break\n",
    "        improvement = False\n",
    "        for i in range(len(best_path) - 1):\n",
    "            bar.set_description(f\"Empiezo desde {i}\")\n",
    "            for k in range(i + 1, len(best_path)):\n",
    "                bar.update()\n",
    "                new_path = best_path[0:i]\n",
    "                new_path.extend(reversed(best_path[i:k + 1]))\n",
    "                new_path.extend(best_path[k + 1:])\n",
    "\n",
    "                cumple_cap = cumple_capacidad_l(new_path, CAPACIDAD)\n",
    "                if not cumple_cap:\n",
    "                    continue\n",
    "\n",
    "                new_cost = calcular_distancias_l(new_path)\n",
    "\n",
    "                if new_cost >= best_cost:\n",
    "                    continue\n",
    "                else:\n",
    "                    print(f\"Improved from {best_cost} to {new_cost}\")\n",
    "                    best_cost = new_cost\n",
    "                    best_path = new_path\n",
    "                    improvement = True\n",
    "                    break  # improvement found, return to the top of the while loop\n",
    "            if improvement:\n",
    "                break"
   ]
  },
  {
   "cell_type": "code",
   "execution_count": 19,
   "id": "69cb8052-721b-4b49-a031-e91b8b460cc9",
   "metadata": {},
   "outputs": [
    {
     "data": {
      "text/plain": [
       "True"
      ]
     },
     "execution_count": 19,
     "metadata": {},
     "output_type": "execute_result"
    }
   ],
   "source": [
    "cumple_capacidad_l(best_path, CAPACIDAD)"
   ]
  },
  {
   "cell_type": "code",
   "execution_count": 20,
   "id": "0ef019e6-a398-4f83-bda6-3fdc026a7d8f",
   "metadata": {},
   "outputs": [
    {
     "data": {
      "text/plain": [
       "920848.5037280435"
      ]
     },
     "execution_count": 20,
     "metadata": {},
     "output_type": "execute_result"
    }
   ],
   "source": [
    "calcular_distancias_l(best_path)"
   ]
  },
  {
   "cell_type": "code",
   "execution_count": 21,
   "id": "a096e313-62a3-4011-8eff-7797b897af1e",
   "metadata": {},
   "outputs": [],
   "source": [
    "seq_str = \" \".join(map(str, [x[0] for x in best_path]))"
   ]
  },
  {
   "cell_type": "code",
   "execution_count": 22,
   "id": "e52364db-8640-4632-a154-e8135fe3d2e9",
   "metadata": {},
   "outputs": [],
   "source": [
    "with open(\"entrega2_greedy_plus_2opt.txt\", \"w\") as f:\n",
    "    f.write(seq_str)"
   ]
  },
  {
   "cell_type": "code",
   "execution_count": null,
   "id": "30058486-a46a-42e4-8a56-a2dbf576bf55",
   "metadata": {},
   "outputs": [],
   "source": []
  }
 ],
 "metadata": {
  "kernelspec": {
   "display_name": "Python 3 (ipykernel)",
   "language": "python",
   "name": "python3"
  },
  "language_info": {
   "codemirror_mode": {
    "name": "ipython",
    "version": 3
   },
   "file_extension": ".py",
   "mimetype": "text/x-python",
   "name": "python",
   "nbconvert_exporter": "python",
   "pygments_lexer": "ipython3",
   "version": "3.8.13"
  }
 },
 "nbformat": 4,
 "nbformat_minor": 5
}
